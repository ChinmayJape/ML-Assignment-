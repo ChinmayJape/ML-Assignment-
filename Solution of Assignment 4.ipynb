{
 "cells": [
  {
   "cell_type": "markdown",
   "metadata": {},
   "source": [
    "## Solution of Assignment 4"
   ]
  },
  {
   "cell_type": "markdown",
   "metadata": {},
   "source": [
    "#### Q1.1 Write a Python Program(with class concepts) to find the area of the triangle using the below formula.\n",
    "#### area = (s*(s-a)*(s-b)*(s-c)) ** 0.5\n",
    "#### Function to take the length of the sides of triangle from user should be defined in the parent class and function to calculate the area should be defined in subclass."
   ]
  },
  {
   "cell_type": "code",
   "execution_count": 1,
   "metadata": {},
   "outputs": [
    {
     "name": "stdout",
     "output_type": "stream",
     "text": [
      "Enter the first side of a triangle: 5\n",
      "Enter the second side of a triangle:6\n",
      "Enter the third side of a triangle: 7\n",
      "14.696938456699069\n"
     ]
    }
   ],
   "source": [
    "a = int(input('Enter the first side of a triangle: '))\n",
    "b = int(input('Enter the second side of a triangle:'))\n",
    "c = int(input('Enter the third side of a triangle: '))\n",
    "class AreaofTriangle():\n",
    "   def __init__(self,a,b,c):\n",
    "       self.a = a\n",
    "       self.b = b\n",
    "       self.c = c\n",
    "   def area(self):\n",
    "       s=(a + b + c)/2\n",
    "       area=(s*(s-a)*(s-b)*(s-c))**0.5\n",
    "       return area\n",
    "X = AreaofTriangle(a, b, c)\n",
    "print(X.area())"
   ]
  },
  {
   "cell_type": "markdown",
   "metadata": {},
   "source": [
    "##### Q1.2 Write a function filter_long_words() that takes a list of words and an integer n and returns the list of words that are longer than n."
   ]
  },
  {
   "cell_type": "code",
   "execution_count": 2,
   "metadata": {},
   "outputs": [
    {
     "name": "stdout",
     "output_type": "stream",
     "text": [
      "['abcd', 'abcdef', 'chinmay']\n"
     ]
    }
   ],
   "source": [
    "def filter_long_words(listofwords,integer):\n",
    "    list1 = []\n",
    "    for i in range(len(listofwords)):\n",
    "        if len(listofwords[i]) > integer:\n",
    "            list1.append(listofwords[i])\n",
    "    return list1\n",
    "\n",
    "print(filter_long_words([\"a\",\"abc\",\"abcd\",\"abcdef\",\"chinmay\"],3))"
   ]
  },
  {
   "cell_type": "markdown",
   "metadata": {},
   "source": [
    "#### Q2.1 Write a Python program using function concept that maps list of words into a list of integers representing the lengths of the corresponding words ."
   ]
  },
  {
   "cell_type": "code",
   "execution_count": 3,
   "metadata": {},
   "outputs": [
    {
     "name": "stdout",
     "output_type": "stream",
     "text": [
      "[1, 2, 7]\n"
     ]
    }
   ],
   "source": [
    "def lengthofwords(listofwords):\n",
    "    list1 = []\n",
    "    for i in range(len(listofwords)):\n",
    "        list1.append(len(listofwords[i]))\n",
    "    return list1\n",
    "\n",
    "print(lengthofwords([\"a\",\"ab\",\"chinmay\"]))"
   ]
  },
  {
   "cell_type": "markdown",
   "metadata": {},
   "source": [
    "#### Q2.2 Write a Python function which takes a character (i.e. a string of length 1) and returns True if it is a vowel, False otherwise."
   ]
  },
  {
   "cell_type": "code",
   "execution_count": 5,
   "metadata": {},
   "outputs": [
    {
     "name": "stdout",
     "output_type": "stream",
     "text": [
      "True\n",
      "False\n"
     ]
    }
   ],
   "source": [
    "def myfunction(character):\n",
    "    vow = 'aeiou'\n",
    "    return character in vow\n",
    "        \n",
    "print(myfunction('a'))\n",
    "print(myfunction('b'))"
   ]
  },
  {
   "cell_type": "code",
   "execution_count": null,
   "metadata": {},
   "outputs": [],
   "source": []
  }
 ],
 "metadata": {
  "kernelspec": {
   "display_name": "Python 3",
   "language": "python",
   "name": "python3"
  },
  "language_info": {
   "codemirror_mode": {
    "name": "ipython",
    "version": 3
   },
   "file_extension": ".py",
   "mimetype": "text/x-python",
   "name": "python",
   "nbconvert_exporter": "python",
   "pygments_lexer": "ipython3",
   "version": "3.7.4"
  }
 },
 "nbformat": 4,
 "nbformat_minor": 2
}
