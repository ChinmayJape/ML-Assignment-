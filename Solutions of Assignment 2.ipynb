{
 "cells": [
  {
   "cell_type": "markdown",
   "metadata": {},
   "source": [
    "## Assignment 2"
   ]
  },
  {
   "cell_type": "markdown",
   "metadata": {},
   "source": [
    "## Task 1"
   ]
  },
  {
   "cell_type": "markdown",
   "metadata": {},
   "source": [
    "#### Q1.1. Write a Python Program to implement your own myreduce() function which works exactly like Python's built-in function reduce()\n"
   ]
  },
  {
   "cell_type": "code",
   "execution_count": 6,
   "metadata": {},
   "outputs": [
    {
     "name": "stdout",
     "output_type": "stream",
     "text": [
      "360\n"
     ]
    }
   ],
   "source": [
    "# Function to print 360\n",
    "def myreduce(list1):\n",
    "    prod = list1[0]\n",
    "    for i in range (1, len(list1)):\n",
    "        prod *= list1[i]\n",
    "    return prod\n",
    "\n",
    "print(myreduce([6,5,4,3]))"
   ]
  },
  {
   "cell_type": "code",
   "execution_count": 5,
   "metadata": {},
   "outputs": [
    {
     "name": "stdout",
     "output_type": "stream",
     "text": [
      "360\n"
     ]
    }
   ],
   "source": [
    "# Reduce function to print 360\n",
    "import functools\n",
    "n = [6,5,4,3]\n",
    "print(functools.reduce(lambda x,y: x*y, n))\n"
   ]
  },
  {
   "cell_type": "markdown",
   "metadata": {},
   "source": [
    "#### Q1.2. Write a Python program to implement your own myfilter() function which works exactly like Python's built-in function filter()\n"
   ]
  },
  {
   "cell_type": "code",
   "execution_count": 10,
   "metadata": {},
   "outputs": [
    {
     "name": "stdout",
     "output_type": "stream",
     "text": [
      "[4, 3]\n"
     ]
    }
   ],
   "source": [
    "# Function to print a list [4,3]\n",
    "\n",
    "def myfilter(list1):\n",
    "    list2 = [ x for x in list1 if x>2]\n",
    "    return list2\n",
    "print(myfilter([4,3,2,1]))"
   ]
  },
  {
   "cell_type": "code",
   "execution_count": 11,
   "metadata": {},
   "outputs": [
    {
     "name": "stdout",
     "output_type": "stream",
     "text": [
      "[4, 3]\n"
     ]
    }
   ],
   "source": [
    "# Filter function to print a list [4,3]\n",
    "\n",
    "n = [4,3,2,1]\n",
    "print(list(filter(lambda x: x>2,n)))"
   ]
  },
  {
   "cell_type": "markdown",
   "metadata": {},
   "source": [
    "#### Q2. Implement List comprehensions to produce the following lists.\n"
   ]
  },
  {
   "cell_type": "code",
   "execution_count": 12,
   "metadata": {},
   "outputs": [
    {
     "name": "stdout",
     "output_type": "stream",
     "text": [
      "['A', 'C', 'A', 'D', 'G', 'I', 'L', 'D']\n"
     ]
    }
   ],
   "source": [
    "# ['A', 'C', 'A', 'D', 'G', 'I', 'L', 'D']\n",
    "\n",
    "lst = ['A', 'C', 'A', 'D', 'G', 'I', 'L', 'D']\n",
    "[i for i in lst]\n",
    "print([i for i in lst])"
   ]
  },
  {
   "cell_type": "code",
   "execution_count": 15,
   "metadata": {},
   "outputs": [
    {
     "name": "stdout",
     "output_type": "stream",
     "text": [
      "['x', 'xx', 'xxx', 'xxxx', 'y', 'yy', 'yyy', 'yyyy', 'z', 'zz', 'zzz', 'zzzz']\n"
     ]
    }
   ],
   "source": [
    "# ['x', 'xx', 'xxx', 'xxxx', 'y', 'yy', 'yyy', 'yyyy', 'z', 'zz', 'zzz', 'zzzz']\n",
    "\n",
    "lst = ['x','y','z']\n",
    "lst2 = [i*n for i in lst for n in range(1,5)]\n",
    "print(lst2)"
   ]
  },
  {
   "cell_type": "code",
   "execution_count": 16,
   "metadata": {},
   "outputs": [
    {
     "name": "stdout",
     "output_type": "stream",
     "text": [
      "['x', 'y', 'z', 'xx', 'yy', 'zz', 'xxx', 'yyy', 'zzz', 'xxxx', 'yyyy', 'zzzz']\n"
     ]
    }
   ],
   "source": [
    "# ['x', 'y', 'z', 'xx', 'yy', 'zz', 'xx', 'yy', 'zz', 'xxxx', 'yyyy', 'zzzz']\n",
    "\n",
    "lst = ['x','y','z']\n",
    "lst2 = [ i*n for n in range(1,5) for i in lst  ]\n",
    "print(lst2)\n"
   ]
  },
  {
   "cell_type": "code",
   "execution_count": 17,
   "metadata": {},
   "outputs": [
    {
     "name": "stdout",
     "output_type": "stream",
     "text": [
      "[[2], [3], [4], [3], [4], [5], [4], [5], [6]]\n"
     ]
    }
   ],
   "source": [
    "# [[2], [3], [4], [3], [4], [5], [4], [5], [6]]\n",
    "\n",
    "lst = [1,2,3]\n",
    "lst2 = [ [i+n] for n in range(1,4) for i in lst  ]\n",
    "print(lst2)"
   ]
  },
  {
   "cell_type": "code",
   "execution_count": 18,
   "metadata": {},
   "outputs": [
    {
     "name": "stdout",
     "output_type": "stream",
     "text": [
      "[[2, 3, 4, 5], [3, 4, 5, 6], [4, 5, 6, 7], [5, 6, 7, 8]]\n"
     ]
    }
   ],
   "source": [
    "# [[2, 3, 4, 5], [3, 4, 5, 6], [4, 5, 6, 7], [5, 6, 7, 8]]\n",
    "\n",
    "lst = [1,2,3,4]\n",
    "lst2 = [ [i+n for n in range(1,5)] for i in lst  ]\n",
    "print(lst2)\n"
   ]
  },
  {
   "cell_type": "code",
   "execution_count": 19,
   "metadata": {},
   "outputs": [
    {
     "name": "stdout",
     "output_type": "stream",
     "text": [
      "[(1, 1), (2, 1), (3, 1), (1, 2), (2, 2), (3, 2), (1, 3), (2, 3), (3, 3)]\n"
     ]
    }
   ],
   "source": [
    "# [(1, 1), (2, 1), (3, 1), (1, 2), (2, 2), (3, 2), (1, 3), (2, 3), (3, 3)]\n",
    "\n",
    "lst=[1,2,3]\n",
    "lst2 = [(b,a) for a in lst for b in lst]\n",
    "print(lst2)"
   ]
  },
  {
   "cell_type": "markdown",
   "metadata": {},
   "source": [
    "#### Q3. Implement a function longestWord() that takes a list of words and returns the longest one."
   ]
  },
  {
   "cell_type": "code",
   "execution_count": 1,
   "metadata": {},
   "outputs": [
    {
     "name": "stdout",
     "output_type": "stream",
     "text": [
      "English\n"
     ]
    }
   ],
   "source": [
    "def longestword(list1):\n",
    "    len1 = []\n",
    "    for n in list1:\n",
    "        len1.append((len(n), n))\n",
    "    len1.sort()\n",
    "    return len1[-1][1]\n",
    "\n",
    "print(longestword([\"Hindi\", \"English\", \"Urdu\"]))"
   ]
  },
  {
   "cell_type": "markdown",
   "metadata": {},
   "source": [
    "## Task 2"
   ]
  },
  {
   "cell_type": "markdown",
   "metadata": {},
   "source": [
    "#### Q1.1 Write a Python Program(with class concepts) to find the area of the triangle using the below formula.\n",
    "#### area = (s*(s-a)*(s-b)*(s-c)) ** 0.5\n",
    "#### Function to take the length of the sides of triangle from user should be defined in the parent class and function to calculate the area should be defined in subclass."
   ]
  },
  {
   "cell_type": "code",
   "execution_count": 7,
   "metadata": {},
   "outputs": [
    {
     "name": "stdout",
     "output_type": "stream",
     "text": [
      "Enter the first side of a triangle: 5\n",
      "Enter the second side of a triangle:6\n",
      "Enter the third side of a triangle: 7\n",
      "14.696938456699069\n"
     ]
    }
   ],
   "source": [
    "a = int(input('Enter the first side of a triangle: '))\n",
    "b = int(input('Enter the second side of a triangle:'))\n",
    "c = int(input('Enter the third side of a triangle: '))\n",
    "class AreaofTriangle():\n",
    "   def __init__(self,a,b,c):\n",
    "       self.a = a\n",
    "       self.b = b\n",
    "       self.c = c\n",
    "   def area(self):\n",
    "       s=(a + b + c)/2\n",
    "       area=(s*(s-a)*(s-b)*(s-c))**0.5\n",
    "       return area\n",
    "X = AreaofTriangle(a, b, c)\n",
    "print(X.area())"
   ]
  },
  {
   "cell_type": "markdown",
   "metadata": {},
   "source": [
    "##### Q1.2 Write a function filter_long_words() that takes a list of words and an integer n and returns the list of words that are longer than n."
   ]
  },
  {
   "cell_type": "code",
   "execution_count": 27,
   "metadata": {},
   "outputs": [
    {
     "name": "stdout",
     "output_type": "stream",
     "text": [
      "['abcd', 'abcdef', 'chinmay']\n"
     ]
    }
   ],
   "source": [
    "def filter_long_words(listofwords,integer):\n",
    "    list1 = []\n",
    "    for i in range(len(listofwords)):\n",
    "        if len(listofwords[i]) > integer:\n",
    "            list1.append(listofwords[i])\n",
    "    return list1\n",
    "\n",
    "print(filter_long_words([\"a\",\"abc\",\"abcd\",\"abcdef\",\"chinmay\"],3))"
   ]
  },
  {
   "cell_type": "markdown",
   "metadata": {},
   "source": [
    "#### Q2.1 Write a Python program using function concept that maps list of words into a list of integers representing the lengths of the corresponding words ."
   ]
  },
  {
   "cell_type": "code",
   "execution_count": 26,
   "metadata": {},
   "outputs": [
    {
     "name": "stdout",
     "output_type": "stream",
     "text": [
      "[1, 2, 7]\n"
     ]
    }
   ],
   "source": [
    "def lengthofwords(listofwords):\n",
    "    list1 = []\n",
    "    for i in range(len(listofwords)):\n",
    "        list1.append(len(listofwords[i]))\n",
    "    return list1\n",
    "\n",
    "print(lengthofwords([\"a\",\"ab\",\"chinmay\"]))"
   ]
  },
  {
   "cell_type": "markdown",
   "metadata": {},
   "source": [
    "#### Q2.2 Write a Python function which takes a character (i.e. a string of length 1) and returns True if it is a vowel, False otherwise."
   ]
  },
  {
   "cell_type": "code",
   "execution_count": 35,
   "metadata": {},
   "outputs": [
    {
     "name": "stdout",
     "output_type": "stream",
     "text": [
      "True\n",
      "False\n"
     ]
    }
   ],
   "source": [
    "def myfunction(character):\n",
    "    vow = 'aeiou'\n",
    "    return character in vow\n",
    "        \n",
    "print(myfunction('a'))\n",
    "print(myfunction('b'))"
   ]
  }
 ],
 "metadata": {
  "kernelspec": {
   "display_name": "Python 3",
   "language": "python",
   "name": "python3"
  },
  "language_info": {
   "codemirror_mode": {
    "name": "ipython",
    "version": 3
   },
   "file_extension": ".py",
   "mimetype": "text/x-python",
   "name": "python",
   "nbconvert_exporter": "python",
   "pygments_lexer": "ipython3",
   "version": "3.7.4"
  }
 },
 "nbformat": 4,
 "nbformat_minor": 2
}
